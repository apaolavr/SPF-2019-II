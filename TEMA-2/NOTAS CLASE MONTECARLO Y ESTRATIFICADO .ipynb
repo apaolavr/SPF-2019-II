{
 "cells": [
  {
   "cell_type": "markdown",
   "metadata": {},
   "source": [
    "# ejercicio de clase"
   ]
  },
  {
   "cell_type": "markdown",
   "metadata": {},
   "source": [
    "quiero ver que este distribuyendo como f "
   ]
  },
  {
   "cell_type": "code",
   "execution_count": 2,
   "metadata": {
    "collapsed": true
   },
   "outputs": [],
   "source": [
    "import numpy as np\n",
    "from functools import reduce\n",
    "import time\n",
    "import matplotlib.pyplot as plt\n",
    "import scipy.stats as st     # Librería estadística\n",
    "import pandas as pd"
   ]
  },
  {
   "cell_type": "code",
   "execution_count": 15,
   "metadata": {},
   "outputs": [
    {
     "data": {
      "image/png": "[encoded data removed]",
      "text/plain": [
       "<Figure size 432x288 with 1 Axes>"
      ]
     },
     "metadata": {},
     "output_type": "display_data"
    }
   ],
   "source": [
    "f_x= lambda x: 1/x**2 if x>= 1 else 0 \n",
    "x_i = lambda u: 1/u\n",
    "N=100\n",
    "u1=np.random.uniform(.1,1,N)\n",
    "muestras= x_i(u1)\n",
    "y,x,p=plt.hist(muestras, bins= 100,density=True)\n",
    "y2=list(map(lambda x: f_x(x),x))\n",
    "plt.plot(x,y2)\n",
    "plt.show()"
   ]
  },
  {
   "cell_type": "code",
   "execution_count": 14,
   "metadata": {},
   "outputs": [
    {
     "data": {
      "text/plain": [
       "array([1.00241977, 1.08214259, 1.16186541, 1.24158823, 1.32131105,\n",
       "       1.40103387, 1.4807567 , 1.56047952, 1.64020234, 1.71992516,\n",
       "       1.79964798, 1.8793708 , 1.95909362, 2.03881645, 2.11853927,\n",
       "       2.19826209, 2.27798491, 2.35770773, 2.43743055, 2.51715338,\n",
       "       2.5968762 , 2.67659902, 2.75632184, 2.83604466, 2.91576748,\n",
       "       2.99549031, 3.07521313, 3.15493595, 3.23465877, 3.31438159,\n",
       "       3.39410441, 3.47382723, 3.55355006, 3.63327288, 3.7129957 ,\n",
       "       3.79271852, 3.87244134, 3.95216416, 4.03188699, 4.11160981,\n",
       "       4.19133263, 4.27105545, 4.35077827, 4.43050109, 4.51022391,\n",
       "       4.58994674, 4.66966956, 4.74939238, 4.8291152 , 4.90883802,\n",
       "       4.98856084, 5.06828367, 5.14800649, 5.22772931, 5.30745213,\n",
       "       5.38717495, 5.46689777, 5.54662059, 5.62634342, 5.70606624,\n",
       "       5.78578906, 5.86551188, 5.9452347 , 6.02495752, 6.10468035,\n",
       "       6.18440317, 6.26412599, 6.34384881, 6.42357163, 6.50329445,\n",
       "       6.58301727, 6.6627401 , 6.74246292, 6.82218574, 6.90190856,\n",
       "       6.98163138, 7.0613542 , 7.14107703, 7.22079985, 7.30052267,\n",
       "       7.38024549, 7.45996831, 7.53969113, 7.61941395, 7.69913678,\n",
       "       7.7788596 , 7.85858242, 7.93830524, 8.01802806, 8.09775088,\n",
       "       8.17747371, 8.25719653, 8.33691935, 8.41664217, 8.49636499,\n",
       "       8.57608781, 8.65581064, 8.73553346, 8.81525628, 8.8949791 ,\n",
       "       8.97470192])"
      ]
     },
     "execution_count": 14,
     "metadata": {},
     "output_type": "execute_result"
    }
   ],
   "source": [
    "x"
   ]
  },
  {
   "cell_type": "markdown",
   "metadata": {},
   "source": [
    "# a) Montecarlo"
   ]
  },
  {
   "cell_type": "code",
   "execution_count": 21,
   "metadata": {},
   "outputs": [
    {
     "data": {
      "text/plain": [
       "15.25657063042112"
      ]
     },
     "execution_count": 21,
     "metadata": {},
     "output_type": "execute_result"
    }
   ],
   "source": [
    "N= 100000\n",
    "a= np.random.uniform(0,1,N)\n",
    "muestras= x_i(a)\n",
    "muestras.mean()"
   ]
  },
  {
   "cell_type": "markdown",
   "metadata": {},
   "source": [
    "# b) estratificado"
   ]
  },
  {
   "cell_type": "code",
   "execution_count": 22,
   "metadata": {},
   "outputs": [
    {
     "data": {
      "text/plain": [
       "3.1414011761124687"
      ]
     },
     "execution_count": 22,
     "metadata": {},
     "output_type": "execute_result"
    }
   ],
   "source": [
    "np.random.seed(100)\n",
    "r1 = np.random.uniform(0,0.6,3)\n",
    "r2 = np.random.uniform(0.6,0.9,3)\n",
    "r3 = np.random.uniform(0.9,1,4)\n",
    "\n",
    "#w1= (3/10) /.6 w2=(3/10)/.3 w3=(4/10)/.1 \n",
    "w = [1/2,1,4]\n",
    "r = [r1,r2,r3]\n",
    "\n",
    "muestras2 = list(map(lambda x: x_i(x), r))\n",
    "estra1 = list(map(lambda x_i, w: x_i/w, muestras2,w))\n",
    "\n",
    "np.concatenate(estra1).mean()"
   ]
  },
  {
   "cell_type": "markdown",
   "metadata": {},
   "source": [
    "# c) estratificado 2"
   ]
  },
  {
   "cell_type": "code",
   "execution_count": 27,
   "metadata": {
    "collapsed": true
   },
   "outputs": [],
   "source": [
    "def estra(B):\n",
    "    u2=np.random.rand(B)\n",
    "    i=np.arange(0,B)\n",
    "    estra=(u2+i)/B\n",
    "    return estra"
   ]
  },
  {
   "cell_type": "code",
   "execution_count": 31,
   "metadata": {},
   "outputs": [
    {
     "data": {
      "text/plain": [
       "3.2042877163531847"
      ]
     },
     "execution_count": 31,
     "metadata": {},
     "output_type": "execute_result"
    }
   ],
   "source": [
    "rand= estra(10)\n",
    "muestras3=list(map(lambda x: x_i(x),rand))\n",
    "np.mean(muestras3)"
   ]
  },
  {
   "cell_type": "markdown",
   "metadata": {},
   "source": [
    "# d) complementario "
   ]
  },
  {
   "cell_type": "code",
   "execution_count": 32,
   "metadata": {},
   "outputs": [
    {
     "data": {
      "text/plain": [
       "3.705839153446108"
      ]
     },
     "execution_count": 32,
     "metadata": {},
     "output_type": "execute_result"
    }
   ],
   "source": [
    "u1 = np.random.rand(5)\n",
    "U2 = 1-u1\n",
    "U =[u1,U2]\n",
    "muestras4 = list(map(lambda x: x_i(x),U))\n",
    "np.concatenate(muestras4).mean()"
   ]
  },
  {
   "cell_type": "code",
   "execution_count": null,
   "metadata": {
    "collapsed": true
   },
   "outputs": [],
   "source": []
  }
 ],
 "metadata": {
  "kernelspec": {
   "display_name": "Python 3",
   "language": "python",
   "name": "python3"
  },
  "language_info": {
   "codemirror_mode": {
    "name": "ipython",
    "version": 3
   },
   "file_extension": ".py",
   "mimetype": "text/x-python",
   "name": "python",
   "nbconvert_exporter": "python",
   "pygments_lexer": "ipython3",
   "version": "3.6.7"
  }
 },
 "nbformat": 4,
 "nbformat_minor": 2
}
